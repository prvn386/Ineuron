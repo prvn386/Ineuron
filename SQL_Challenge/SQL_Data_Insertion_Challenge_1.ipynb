{
 "cells": [
  {
   "cell_type": "markdown",
   "id": "bc4c3e08",
   "metadata": {},
   "source": [
    "**Challenge** : Download carbon nanotubes data from UIC database and clean it up as required and finally insert that <br>cleaned data into SQL database"
   ]
  },
  {
   "cell_type": "markdown",
   "id": "da7ed93d",
   "metadata": {},
   "source": [
    "Steps to perform this task:\n",
    "1. Load the csv file downloaded and examine\n",
    "2. Clean up the file as required and save it as a new file separately\n",
    "3. Connect with SQL database\n",
    "4. Create one new database to insert the data\n",
    "5. Create one new table inside the newly created database\n",
    "6. Load the cleaned csv file and extract column names which can be used for creation of table columns inside DB\n",
    "7. Insert the data inside sql database\n",
    "8. Finally, fetch the inserted data using pandas and confirm it"
   ]
  },
  {
   "cell_type": "code",
   "execution_count": 3,
   "id": "be96eb9c",
   "metadata": {},
   "outputs": [],
   "source": [
    "import csv # library to read the csv file "
   ]
  },
  {
   "cell_type": "code",
   "execution_count": 69,
   "id": "d5ada953",
   "metadata": {},
   "outputs": [
    {
     "name": "stdout",
     "output_type": "stream",
     "text": [
      "[\"Chiral indice n;Chiral indice m;Initial atomic coordinate u;Initial atomic coordinate v;Initial atomic coordinate w;Calculated atomic coordinates u';Calculated atomic coordinates v';Calculated atomic coordinates w'\\n\", '2;1;0,679005;0,701318;0,017033;0,721039;0,730232;0,017014\\n', '2;1;0,717298;0,642129;0,231319;0,738414;0,65675;0,232369\\n', '2;1;0,489336;0,303751;0,088462;0,477676;0,263221;0,088712\\n', '2;1;0,413957;0,632996;0,040843;0,408823;0,657897;0,039796\\n', '2;1;0,334292;0,543401;0,15989;0,303349;0,558807;0,157373\\n', '2;1;0,510664;0,696249;0,255128;0,496977;0,725608;0,25597\\n', '2;1;0,413957;0,632996;0,374176;0,390878;0,657645;0,374735\\n', '2;1;0,712552;0,55479;0,112271;0,750056;0,561494;0,114944\\n', '2;1;0,320995;0,298682;0,1837;0,281301;0,261433;0,182779\\n', '2;1;0,394742;0,279367;0,302747;0,35086;0,2335;0,302196\\n', '2;1;0,282702;0,357871;0,397985;0,229138;0,328729;0,398581\\n', '2;1;0,320995;0,298682;0,517033;0,278752;0,269615;0,51733\\n', '2;1;0,605258;0,720633;0,469414;0,613415;0,760009;0,469452\\n', '2;1;0,510664;0,696249;0,588462;0,521991;0,736991;0,588946\\n']\n"
     ]
    }
   ],
   "source": [
    "# load the csv file \n",
    "with open('carbon_nanotubes.csv','r')as file:\n",
    "    data = file.readlines(1000) # reading the file line by line\n",
    "    print(data)"
   ]
  },
  {
   "cell_type": "code",
   "execution_count": 14,
   "id": "371605f7",
   "metadata": {},
   "outputs": [
    {
     "name": "stdout",
     "output_type": "stream",
     "text": [
      "The list of column names in the data are: ['Chiral indice n', 'Chiral indice m', 'Initial atomic coordinate u', 'Initial atomic coordinate v', 'Initial atomic coordinate w', \"Calculated atomic coordinates u'\", \"Calculated atomic coordinates v'\", \"Calculated atomic coordinates w'\"]\n",
      "Total number of columns in the data are:8\n"
     ]
    }
   ],
   "source": [
    "# pulling out column names by reading the file in a new format\n",
    "row_data = []\n",
    "\n",
    "with open('carbon_nanotubes.csv','r') as file:\n",
    "    data_new = csv.reader(file,delimiter =';')\n",
    "    for row in data_new:\n",
    "        row_data.append(row)\n",
    "        \n",
    "print(\"The list of column names in the data are:\",row_data[0])\n",
    "print(\"Total number of columns in the data are:{}\".format(len(row_data[0])))"
   ]
  },
  {
   "cell_type": "code",
   "execution_count": 56,
   "id": "ee70f6bc",
   "metadata": {},
   "outputs": [],
   "source": [
    "# saving the formatted data as as new csv file\n",
    "with open('carbon_formatted.csv','w+',newline='') as new:\n",
    "    datawriter = csv.writer(new)\n",
    "    datawriter.writerows(row_data) "
   ]
  },
  {
   "cell_type": "markdown",
   "id": "3ec9ea74",
   "metadata": {},
   "source": [
    "**VERIFYING THE NEW FORMATTED DATA**"
   ]
  },
  {
   "cell_type": "code",
   "execution_count": 71,
   "id": "6f5a6121",
   "metadata": {},
   "outputs": [
    {
     "name": "stdout",
     "output_type": "stream",
     "text": [
      "[\"Chiral indice n,Chiral indice m,Initial atomic coordinate u,Initial atomic coordinate v,Initial atomic coordinate w,Calculated atomic coordinates u',Calculated atomic coordinates v',Calculated atomic coordinates w'\\n\", '2,1,\"0,679005\",\"0,701318\",\"0,017033\",\"0,721039\",\"0,730232\",\"0,017014\"\\n', '2,1,\"0,717298\",\"0,642129\",\"0,231319\",\"0,738414\",\"0,65675\",\"0,232369\"\\n', '2,1,\"0,489336\",\"0,303751\",\"0,088462\",\"0,477676\",\"0,263221\",\"0,088712\"\\n', '2,1,\"0,413957\",\"0,632996\",\"0,040843\",\"0,408823\",\"0,657897\",\"0,039796\"\\n', '2,1,\"0,334292\",\"0,543401\",\"0,15989\",\"0,303349\",\"0,558807\",\"0,157373\"\\n', '2,1,\"0,510664\",\"0,696249\",\"0,255128\",\"0,496977\",\"0,725608\",\"0,25597\"\\n', '2,1,\"0,413957\",\"0,632996\",\"0,374176\",\"0,390878\",\"0,657645\",\"0,374735\"\\n', '2,1,\"0,712552\",\"0,55479\",\"0,112271\",\"0,750056\",\"0,561494\",\"0,114944\"\\n', '2,1,\"0,320995\",\"0,298682\",\"0,1837\",\"0,281301\",\"0,261433\",\"0,182779\"\\n', '2,1,\"0,394742\",\"0,279367\",\"0,302747\",\"0,35086\",\"0,2335\",\"0,302196\"\\n', '2,1,\"0,282702\",\"0,357871\",\"0,397985\",\"0,229138\",\"0,328729\",\"0,398581\"\\n', '2,1,\"0,320995\",\"0,298682\",\"0,517033\",\"0,278752\",\"0,269615\",\"0,51733\"\\n']\n"
     ]
    }
   ],
   "source": [
    "# verifying the new file\n",
    "with open('carbon_formatted.csv','r') as new:\n",
    "    data = new.readlines(1000)\n",
    "    print(data)"
   ]
  },
  {
   "cell_type": "markdown",
   "id": "7ae006bf",
   "metadata": {},
   "source": [
    "**SQL STARTUP**"
   ]
  },
  {
   "cell_type": "code",
   "execution_count": 18,
   "id": "953aeeb6",
   "metadata": {},
   "outputs": [],
   "source": [
    "# sql connection\n",
    "import mysql.connector as connection"
   ]
  },
  {
   "cell_type": "markdown",
   "id": "c6df68a8",
   "metadata": {},
   "source": [
    "**DATA BASE CREATION**"
   ]
  },
  {
   "cell_type": "code",
   "execution_count": 20,
   "id": "81a60d99",
   "metadata": {},
   "outputs": [
    {
     "name": "stdout",
     "output_type": "stream",
     "text": [
      "Database connection is successful\n",
      "Database is created\n"
     ]
    }
   ],
   "source": [
    "# creation of new database\n",
    "try:\n",
    "    mydb = connection.connect(host = \"localhost\", user =\"root\", passwd =\"Password2!\",use_pure = True)\n",
    "    print(\"Database connection is successful\")\n",
    "    \n",
    "    query = \"CREATE DATABASE CarbonNanoTube\"\n",
    "    \n",
    "    cursor = mydb.cursor()\n",
    "    cursor.execute(query)\n",
    "    print(\"Database is created\")\n",
    "    mydb.close()\n",
    "    \n",
    "except Exception as e:\n",
    "    mydb.close()\n",
    "    print(str(e))  "
   ]
  },
  {
   "cell_type": "markdown",
   "id": "7c46a2ad",
   "metadata": {},
   "source": [
    "**TABLE CREATION** "
   ]
  },
  {
   "cell_type": "code",
   "execution_count": 72,
   "id": "0ce141b5",
   "metadata": {},
   "outputs": [
    {
     "name": "stdout",
     "output_type": "stream",
     "text": [
      "Database connection is successful\n",
      "Table created\n"
     ]
    }
   ],
   "source": [
    "try:\n",
    "    mydb = connection.connect(host = \"localhost\",database = \"CarbonNanoTube\",user =\"root\",passwd = \"Password2!\",use_pure = True)\n",
    "    print(\"Database connection is successful\")\n",
    "    \n",
    "    query = \"create table CarbonNanoTube.carbonNano (Chiral_indice_n VARCHAR(15),Chiral_indice_m VARCHAR(15),Initial_atomic_coordinate_u VARCHAR(15),Initial_atomic_coordinate_v VARCHAR(15),Initial_atomic_coordinate_w VARCHAR(15),\\\n",
    "                    Calculated_atomic_coordinates_u VARCHAR(15),Calculated_atomic_coordinates_v VARCHAR(15),Calculated_atomic_coordinates_w VARCHAR(15))\"\n",
    "    cursor = mydb.cursor()\n",
    "    cursor.execute(query)\n",
    "    print(\"Table created\")\n",
    "    \n",
    "except Exception as e:\n",
    "    mydb.close()\n",
    "    print(str(e))      "
   ]
  },
  {
   "cell_type": "markdown",
   "id": "77c52a4f",
   "metadata": {},
   "source": [
    "**INSERT DATA INTO TABLE**"
   ]
  },
  {
   "cell_type": "code",
   "execution_count": 73,
   "id": "cda2af2b",
   "metadata": {},
   "outputs": [
    {
     "name": "stdout",
     "output_type": "stream",
     "text": [
      "Complete Data insertion is successfull\n"
     ]
    }
   ],
   "source": [
    "with open('carbon_formatted.csv','r') as data:\n",
    "    next(data)\n",
    "    data_reader = csv.reader(data,delimiter = '\\n')\n",
    "    for i in enumerate(data_reader):\n",
    "        #print(i)\n",
    "        for j in i[1]:\n",
    "            cursor.execute(\"Insert into CarbonNanoTube.carbonNano values ({data})\".format(data = j))\n",
    "    print(\"Complete Data insertion is successfull\")\n",
    "mydb.commit()"
   ]
  },
  {
   "cell_type": "markdown",
   "id": "1df176ca",
   "metadata": {},
   "source": [
    "**VERIFICATION OF DATA BY FETCHING IT USING PANDAS LIBRARY**"
   ]
  },
  {
   "cell_type": "code",
   "execution_count": 60,
   "id": "ab6ec843",
   "metadata": {},
   "outputs": [],
   "source": [
    "import pandas as pd"
   ]
  },
  {
   "cell_type": "code",
   "execution_count": 74,
   "id": "7e8bb9ed",
   "metadata": {},
   "outputs": [
    {
     "data": {
      "text/html": [
       "<div>\n",
       "<style scoped>\n",
       "    .dataframe tbody tr th:only-of-type {\n",
       "        vertical-align: middle;\n",
       "    }\n",
       "\n",
       "    .dataframe tbody tr th {\n",
       "        vertical-align: top;\n",
       "    }\n",
       "\n",
       "    .dataframe thead th {\n",
       "        text-align: right;\n",
       "    }\n",
       "</style>\n",
       "<table border=\"1\" class=\"dataframe\">\n",
       "  <thead>\n",
       "    <tr style=\"text-align: right;\">\n",
       "      <th></th>\n",
       "      <th>Chiral_indice_n</th>\n",
       "      <th>Chiral_indice_m</th>\n",
       "      <th>Initial_atomic_coordinate_u</th>\n",
       "      <th>Initial_atomic_coordinate_v</th>\n",
       "      <th>Initial_atomic_coordinate_w</th>\n",
       "      <th>Calculated_atomic_coordinates_u</th>\n",
       "      <th>Calculated_atomic_coordinates_v</th>\n",
       "      <th>Calculated_atomic_coordinates_w</th>\n",
       "    </tr>\n",
       "  </thead>\n",
       "  <tbody>\n",
       "    <tr>\n",
       "      <th>0</th>\n",
       "      <td>2</td>\n",
       "      <td>1</td>\n",
       "      <td>0,679005</td>\n",
       "      <td>0,701318</td>\n",
       "      <td>0,017033</td>\n",
       "      <td>0,721039</td>\n",
       "      <td>0,730232</td>\n",
       "      <td>0,017014</td>\n",
       "    </tr>\n",
       "    <tr>\n",
       "      <th>1</th>\n",
       "      <td>2</td>\n",
       "      <td>1</td>\n",
       "      <td>0,717298</td>\n",
       "      <td>0,642129</td>\n",
       "      <td>0,231319</td>\n",
       "      <td>0,738414</td>\n",
       "      <td>0,65675</td>\n",
       "      <td>0,232369</td>\n",
       "    </tr>\n",
       "    <tr>\n",
       "      <th>2</th>\n",
       "      <td>2</td>\n",
       "      <td>1</td>\n",
       "      <td>0,489336</td>\n",
       "      <td>0,303751</td>\n",
       "      <td>0,088462</td>\n",
       "      <td>0,477676</td>\n",
       "      <td>0,263221</td>\n",
       "      <td>0,088712</td>\n",
       "    </tr>\n",
       "    <tr>\n",
       "      <th>3</th>\n",
       "      <td>2</td>\n",
       "      <td>1</td>\n",
       "      <td>0,413957</td>\n",
       "      <td>0,632996</td>\n",
       "      <td>0,040843</td>\n",
       "      <td>0,408823</td>\n",
       "      <td>0,657897</td>\n",
       "      <td>0,039796</td>\n",
       "    </tr>\n",
       "    <tr>\n",
       "      <th>4</th>\n",
       "      <td>2</td>\n",
       "      <td>1</td>\n",
       "      <td>0,334292</td>\n",
       "      <td>0,543401</td>\n",
       "      <td>0,15989</td>\n",
       "      <td>0,303349</td>\n",
       "      <td>0,558807</td>\n",
       "      <td>0,157373</td>\n",
       "    </tr>\n",
       "    <tr>\n",
       "      <th>...</th>\n",
       "      <td>...</td>\n",
       "      <td>...</td>\n",
       "      <td>...</td>\n",
       "      <td>...</td>\n",
       "      <td>...</td>\n",
       "      <td>...</td>\n",
       "      <td>...</td>\n",
       "      <td>...</td>\n",
       "    </tr>\n",
       "    <tr>\n",
       "      <th>10716</th>\n",
       "      <td>12</td>\n",
       "      <td>6</td>\n",
       "      <td>0,834201</td>\n",
       "      <td>0,399891</td>\n",
       "      <td>0,89127</td>\n",
       "      <td>0,841858</td>\n",
       "      <td>0,405882</td>\n",
       "      <td>0,891356</td>\n",
       "    </tr>\n",
       "    <tr>\n",
       "      <th>10717</th>\n",
       "      <td>12</td>\n",
       "      <td>6</td>\n",
       "      <td>0,698374</td>\n",
       "      <td>0,24471</td>\n",
       "      <td>0,962699</td>\n",
       "      <td>0,706555</td>\n",
       "      <td>0,248416</td>\n",
       "      <td>0,962833</td>\n",
       "    </tr>\n",
       "    <tr>\n",
       "      <th>10718</th>\n",
       "      <td>12</td>\n",
       "      <td>6</td>\n",
       "      <td>0,923823</td>\n",
       "      <td>0,568913</td>\n",
       "      <td>0,819842</td>\n",
       "      <td>0,929403</td>\n",
       "      <td>0,576284</td>\n",
       "      <td>0,819879</td>\n",
       "    </tr>\n",
       "    <tr>\n",
       "      <th>10719</th>\n",
       "      <td>12</td>\n",
       "      <td>6</td>\n",
       "      <td>0,934978</td>\n",
       "      <td>0,602319</td>\n",
       "      <td>0,938889</td>\n",
       "      <td>0,941844</td>\n",
       "      <td>0,610608</td>\n",
       "      <td>0,938755</td>\n",
       "    </tr>\n",
       "    <tr>\n",
       "      <th>10720</th>\n",
       "      <td>12</td>\n",
       "      <td>6</td>\n",
       "      <td>0,953664</td>\n",
       "      <td>0,698374</td>\n",
       "      <td>0,962699</td>\n",
       "      <td>0,961243</td>\n",
       "      <td>0,707812</td>\n",
       "      <td>0,962605</td>\n",
       "    </tr>\n",
       "  </tbody>\n",
       "</table>\n",
       "<p>10721 rows × 8 columns</p>\n",
       "</div>"
      ],
      "text/plain": [
       "      Chiral_indice_n Chiral_indice_m Initial_atomic_coordinate_u  \\\n",
       "0                   2               1                    0,679005   \n",
       "1                   2               1                    0,717298   \n",
       "2                   2               1                    0,489336   \n",
       "3                   2               1                    0,413957   \n",
       "4                   2               1                    0,334292   \n",
       "...               ...             ...                         ...   \n",
       "10716              12               6                    0,834201   \n",
       "10717              12               6                    0,698374   \n",
       "10718              12               6                    0,923823   \n",
       "10719              12               6                    0,934978   \n",
       "10720              12               6                    0,953664   \n",
       "\n",
       "      Initial_atomic_coordinate_v Initial_atomic_coordinate_w  \\\n",
       "0                        0,701318                    0,017033   \n",
       "1                        0,642129                    0,231319   \n",
       "2                        0,303751                    0,088462   \n",
       "3                        0,632996                    0,040843   \n",
       "4                        0,543401                     0,15989   \n",
       "...                           ...                         ...   \n",
       "10716                    0,399891                     0,89127   \n",
       "10717                     0,24471                    0,962699   \n",
       "10718                    0,568913                    0,819842   \n",
       "10719                    0,602319                    0,938889   \n",
       "10720                    0,698374                    0,962699   \n",
       "\n",
       "      Calculated_atomic_coordinates_u Calculated_atomic_coordinates_v  \\\n",
       "0                            0,721039                        0,730232   \n",
       "1                            0,738414                         0,65675   \n",
       "2                            0,477676                        0,263221   \n",
       "3                            0,408823                        0,657897   \n",
       "4                            0,303349                        0,558807   \n",
       "...                               ...                             ...   \n",
       "10716                        0,841858                        0,405882   \n",
       "10717                        0,706555                        0,248416   \n",
       "10718                        0,929403                        0,576284   \n",
       "10719                        0,941844                        0,610608   \n",
       "10720                        0,961243                        0,707812   \n",
       "\n",
       "      Calculated_atomic_coordinates_w  \n",
       "0                            0,017014  \n",
       "1                            0,232369  \n",
       "2                            0,088712  \n",
       "3                            0,039796  \n",
       "4                            0,157373  \n",
       "...                               ...  \n",
       "10716                        0,891356  \n",
       "10717                        0,962833  \n",
       "10718                        0,819879  \n",
       "10719                        0,938755  \n",
       "10720                        0,962605  \n",
       "\n",
       "[10721 rows x 8 columns]"
      ]
     },
     "execution_count": 74,
     "metadata": {},
     "output_type": "execute_result"
    }
   ],
   "source": [
    "pd.read_sql(\"select * from CarbonNanoTube.carbonNano\",mydb)"
   ]
  },
  {
   "cell_type": "code",
   "execution_count": null,
   "id": "ad5e5e69",
   "metadata": {},
   "outputs": [],
   "source": []
  }
 ],
 "metadata": {
  "kernelspec": {
   "display_name": "Python 3",
   "language": "python",
   "name": "python3"
  },
  "language_info": {
   "codemirror_mode": {
    "name": "ipython",
    "version": 3
   },
   "file_extension": ".py",
   "mimetype": "text/x-python",
   "name": "python",
   "nbconvert_exporter": "python",
   "pygments_lexer": "ipython3",
   "version": "3.9.5"
  }
 },
 "nbformat": 4,
 "nbformat_minor": 5
}
